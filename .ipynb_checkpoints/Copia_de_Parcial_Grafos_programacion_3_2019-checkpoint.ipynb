{
 "cells": [
  {
   "cell_type": "markdown",
   "metadata": {
    "colab_type": "text",
    "id": "5bv3YDlgx_Uc"
   },
   "source": [
    "# Parcial programacion 3\n",
    "\n",
    "Por favor , para empezar el parcial cree una copia del archivo haciendo click en Archivo -> guardar una copia en drive.\n",
    "\n",
    "Al finalizar por favor envíe el archivo al email mebordone@gmail.com"
   ]
  },
  {
   "cell_type": "markdown",
   "metadata": {
    "colab_type": "text",
    "id": "RoEt71hDq6-L"
   },
   "source": [
    "1 - Definir que es un grafo"
   ]
  },
  {
   "cell_type": "markdown",
   "metadata": {
    "colab_type": "text",
    "id": "6lizZxLa6zuv"
   },
   "source": [
    "Es un conjunto no vacio de vertices y aristas. Donde los pares de vertices forman aristas y pueden se orientados o no orientados."
   ]
  },
  {
   "cell_type": "code",
   "execution_count": null,
   "metadata": {
    "colab": {},
    "colab_type": "code",
    "id": "EEINj2wq6yvS"
   },
   "outputs": [],
   "source": []
  },
  {
   "cell_type": "markdown",
   "metadata": {
    "colab_type": "text",
    "id": "mbQ7qAq_hofE"
   },
   "source": [
    "Es un conjunto no vacio de vertices y aristas. Donde los pares de vertices forman aristas y pueden se orientados o no orientados. tambien puede tener peso la arista."
   ]
  },
  {
   "cell_type": "markdown",
   "metadata": {
    "colab_type": "text",
    "id": "FiO4GZkwhAC1"
   },
   "source": [
    "2 - Realizar paso a paso la recorrida DFS y BFS desde el nodo 5, es decir. Para eso, en cada paso que se dé, se debe señalar:\n",
    "1. resultado obtenido hasta el momento \n",
    "2. stack (si es DFS) o queue (si es BFS)\n",
    "3. nodos que ya han sido visitados\n",
    "\n",
    "![texto alternativo](https://upload.wikimedia.org/wikipedia/commons/5/5b/6n-graf.svg)"
   ]
  },
  {
   "cell_type": "markdown",
   "metadata": {
    "colab_type": "text",
    "id": "U0nLcRCihpc7"
   },
   "source": [
    "DFS: menor primero\n",
    "stack : ------\n",
    "resultado : 5,1,2,3,4,6\n",
    "\n",
    "BFS:de izq a der\n",
    "queue :------\n",
    "resultado : 5,4,2,1,6,3"
   ]
  },
  {
   "cell_type": "markdown",
   "metadata": {
    "colab_type": "text",
    "id": "lFgzsILShqHa"
   },
   "source": [
    "3 - \n",
    "1. Para el grafo del ejercicio 2 dar la matriz de adyacencia.\n",
    "2. ¿Es un grafo conexo? ¿Por que?\n",
    "3. ¿Que grado tiene el vertice 3?\n",
    "4. ¿Es una arbol? ¿Por que?\n",
    "\n"
   ]
  },
  {
   "cell_type": "markdown",
   "metadata": {
    "colab_type": "text",
    "id": "BQmBprJuiAhD"
   },
   "source": [
    "Matriz de adyacencias\n",
    "\n",
    "\n",
    "```\n",
    "|x|1 2 3 4 5 6|\n",
    "|1|0 x 0 0 x 0|\n",
    "|2|x 0 x 0 x 0|\n",
    "|3|0 x 0 x 0 0|\n",
    "|4|0 0 x 0 x x|\n",
    "|5|x x 0 x 0 0|\n",
    "|6|0 0 0 x 0 0|\n",
    "```\n",
    "```\n",
    "2 - Es un grafo conexo. Porque existe un camino entre cada par de vertices\n",
    "3 - El grado del vertice 3 es 2. g(3)=2\n",
    "4 - Un arbol esta conectado por exactamente un camino. \n",
    "```\n"
   ]
  },
  {
   "cell_type": "markdown",
   "metadata": {
    "colab_type": "text",
    "id": "xPBvn9_Aiou4"
   },
   "source": [
    "4 - Complete por favor la implementación de las funciones detalladas debajo. "
   ]
  },
  {
   "cell_type": "code",
   "execution_count": 8,
   "metadata": {
    "colab": {
     "base_uri": "https://localhost:8080/",
     "height": 237
    },
    "colab_type": "code",
    "id": "feR02irEjfqx",
    "outputId": "be38db48-a331-4bed-d14d-5abfe8a891ed"
   },
   "outputs": [
    {
     "ename": "AssertionError",
     "evalue": "",
     "output_type": "error",
     "traceback": [
      "\u001b[0;31m---------------------------------------------------------------------------\u001b[0m",
      "\u001b[0;31mAssertionError\u001b[0m                            Traceback (most recent call last)",
      "\u001b[0;32m<ipython-input-8-9320c2d3356b>\u001b[0m in \u001b[0;36m<module>\u001b[0;34m\u001b[0m\n\u001b[1;32m     38\u001b[0m \u001b[0;32massert\u001b[0m \u001b[0mgradoMas\u001b[0m\u001b[0;34m(\u001b[0m\u001b[0mg\u001b[0m\u001b[0;34m,\u001b[0m\u001b[0;36m1\u001b[0m\u001b[0;34m)\u001b[0m\u001b[0;34m==\u001b[0m\u001b[0;36m3\u001b[0m\u001b[0;34m\u001b[0m\u001b[0;34m\u001b[0m\u001b[0m\n\u001b[1;32m     39\u001b[0m \u001b[0;32massert\u001b[0m \u001b[0mgradoMenos\u001b[0m\u001b[0;34m(\u001b[0m\u001b[0mg\u001b[0m\u001b[0;34m,\u001b[0m\u001b[0;36m3\u001b[0m\u001b[0;34m)\u001b[0m\u001b[0;34m==\u001b[0m\u001b[0;36m4\u001b[0m\u001b[0;34m\u001b[0m\u001b[0;34m\u001b[0m\u001b[0m\n\u001b[0;32m---> 40\u001b[0;31m \u001b[0;32massert\u001b[0m \u001b[0mesdirigido\u001b[0m\u001b[0;34m(\u001b[0m\u001b[0mg\u001b[0m\u001b[0;34m)\u001b[0m \u001b[0;34m==\u001b[0m \u001b[0;32mTrue\u001b[0m\u001b[0;34m\u001b[0m\u001b[0;34m\u001b[0m\u001b[0m\n\u001b[0m\u001b[1;32m     41\u001b[0m \u001b[0;34m\u001b[0m\u001b[0m\n\u001b[1;32m     42\u001b[0m g2 = [[0,3,2],\n",
      "\u001b[0;31mAssertionError\u001b[0m: "
     ]
    }
   ],
   "source": [
    "g = \\\n",
    "[[0, 0, 4, 1, 3, 0],\n",
    " [1, 0, 0, 5, 0, 5],\n",
    " [4, 0, 0, 0, 0, 0],\n",
    " [0, 5, 0, 1, 4, 2],\n",
    " [0, 3, 0, 3, 0, 1],\n",
    " [5, 1, 0, 0, 1, 0]]\n",
    "\n",
    "def verticesN(g): # grafo -> int : devuelve la cantidad de vertices\n",
    "  return len(g)\n",
    "def aristasM(g): # grafo -> int : devuelve la cantidad de aristas\n",
    "  cont = 0\n",
    "  for i in range(len(g)):\n",
    "    for j in range(len(g)):\n",
    "      if g[i][j] != 0:\n",
    "        cont += 1\n",
    "  return cont\n",
    "def vecinos(grafo,vertice): # grafo x vertice -> [vertices] : devuelve la lista de vecinos\n",
    "  v = []\n",
    "  for i in range(len(grafo)):\n",
    "    if grafo[vertice][i] != 0:\n",
    "      v.append(i)\n",
    "  return v\n",
    "def gradoMas(grafo,vertice): # grafo x vertice -> int\n",
    "  return len(vecinos(grafo,vertice))\n",
    "def gradoMenos(grafo,vertice): # grafo x vertice -> int\n",
    "  return len(vecinos(grafo,vertice))\n",
    "def esdirigido(g): # grafo -> Bool\n",
    "  for i in range(len(g)):\n",
    "    for j in range(len(g)):\n",
    "      if g[i][j] != g[j][i]:\n",
    "        return True\n",
    "      else:\n",
    "        return False\n",
    "assert verticesN(g) == 6\n",
    "assert aristasM(g) == 17\n",
    "assert vecinos(g,1)==[0,3,5]\n",
    "assert gradoMas(g,1)==3\n",
    "assert gradoMenos(g,3)==4\n",
    "assert esdirigido(g) == True\n",
    "\n",
    "g2 = [[0,3,2],\n",
    "      [3,0,1],\n",
    "      [2,1,0]]\n",
    "\n",
    "assert esdirigido(g2)== False"
   ]
  },
  {
   "cell_type": "code",
   "execution_count": null,
   "metadata": {},
   "outputs": [],
   "source": []
  }
 ],
 "metadata": {
  "colab": {
   "collapsed_sections": [],
   "name": "Copia de Parcial Grafos programacion 3 2019",
   "provenance": []
  },
  "kernelspec": {
   "display_name": "Python 3",
   "language": "python",
   "name": "python3"
  },
  "language_info": {
   "codemirror_mode": {
    "name": "ipython",
    "version": 3
   },
   "file_extension": ".py",
   "mimetype": "text/x-python",
   "name": "python",
   "nbconvert_exporter": "python",
   "pygments_lexer": "ipython3",
   "version": "3.6.8"
  }
 },
 "nbformat": 4,
 "nbformat_minor": 4
}
